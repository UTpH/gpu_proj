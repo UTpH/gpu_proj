{
 "cells": [
  {
   "cell_type": "markdown",
   "metadata": {},
   "source": [
    "## Predicting Speedup - Classification"
   ]
  },
  {
   "cell_type": "markdown",
   "metadata": {},
   "source": [
    "We label each data point collected as:-\n",
    "<ul>\n",
    "    <li>'Slowdown' (speedup < 1)</li>\n",
    "    <li>'Minimal' (speedup < 10)</li>\n",
    "    <li>'Moderate' (speedup < 20)</li>\n",
    "    <li>'High' (speedup >= 20)</li>\n",
    "</ul>\n",
    "Then we train our classifier to predict wheather the application would get a preferable speed up range."
   ]
  },
  {
   "cell_type": "markdown",
   "metadata": {},
   "source": [
    "Importing required libraries"
   ]
  },
  {
   "cell_type": "code",
   "execution_count": 1,
   "metadata": {},
   "outputs": [],
   "source": [
    "from sklearn.ensemble import GradientBoostingClassifier\n",
    "from sklearn.model_selection import train_test_split\n",
    "from sklearn.linear_model import LogisticRegression\n",
    "from sklearn.ensemble import RandomForestClassifier\n",
    "from sklearn.preprocessing import StandardScaler\n",
    "from sklearn.neural_network import MLPClassifier\n",
    "from sklearn.dummy import DummyClassifier\n",
    "from sklearn.tree import export_graphviz\n",
    "from matplotlib import pyplot as plt\n",
    "from IPython.display import Image\n",
    "from matplotlib import cm as cm\n",
    "from subprocess import call\n",
    "from sklearn.svm import SVC\n",
    "from sklearn import metrics\n",
    "import seaborn as sns\n",
    "import pandas as pd \n",
    "import numpy as np"
   ]
  },
  {
   "cell_type": "markdown",
   "metadata": {},
   "source": [
    "### Data Pre-Processing"
   ]
  },
  {
   "cell_type": "markdown",
   "metadata": {},
   "source": [
    "Read CSV"
   ]
  },
  {
   "cell_type": "code",
   "execution_count": 2,
   "metadata": {},
   "outputs": [
    {
     "data": {
      "text/html": [
       "<div>\n",
       "<style scoped>\n",
       "    .dataframe tbody tr th:only-of-type {\n",
       "        vertical-align: middle;\n",
       "    }\n",
       "\n",
       "    .dataframe tbody tr th {\n",
       "        vertical-align: top;\n",
       "    }\n",
       "\n",
       "    .dataframe thead th {\n",
       "        text-align: right;\n",
       "    }\n",
       "</style>\n",
       "<table border=\"1\" class=\"dataframe\">\n",
       "  <thead>\n",
       "    <tr style=\"text-align: right;\">\n",
       "      <th></th>\n",
       "      <th>SP/SM</th>\n",
       "      <th>Num SM</th>\n",
       "      <th>Cluster ID</th>\n",
       "      <th>Data (Transfer) Size (in Bytes)</th>\n",
       "      <th>Ratio of Global Access</th>\n",
       "      <th>Ratio of FP Instructions</th>\n",
       "      <th>Ratio of Branch Inst</th>\n",
       "      <th>Speedup</th>\n",
       "      <th>Num Blocks</th>\n",
       "      <th>Num Threads</th>\n",
       "      <th>Application Name</th>\n",
       "      <th>PCIe Bandwidth</th>\n",
       "      <th>Class</th>\n",
       "    </tr>\n",
       "  </thead>\n",
       "  <tbody>\n",
       "    <tr>\n",
       "      <th>0</th>\n",
       "      <td>64</td>\n",
       "      <td>80</td>\n",
       "      <td>3</td>\n",
       "      <td>40000</td>\n",
       "      <td>0.11</td>\n",
       "      <td>0.0</td>\n",
       "      <td>0.000</td>\n",
       "      <td>0.004842</td>\n",
       "      <td>1020</td>\n",
       "      <td>1</td>\n",
       "      <td>QuickSort</td>\n",
       "      <td>4.0</td>\n",
       "      <td>Slowdown</td>\n",
       "    </tr>\n",
       "    <tr>\n",
       "      <th>1</th>\n",
       "      <td>64</td>\n",
       "      <td>80</td>\n",
       "      <td>3</td>\n",
       "      <td>40000</td>\n",
       "      <td>0.11</td>\n",
       "      <td>0.0</td>\n",
       "      <td>0.000</td>\n",
       "      <td>0.004842</td>\n",
       "      <td>1020</td>\n",
       "      <td>1</td>\n",
       "      <td>QuickSort</td>\n",
       "      <td>4.0</td>\n",
       "      <td>Slowdown</td>\n",
       "    </tr>\n",
       "    <tr>\n",
       "      <th>2</th>\n",
       "      <td>64</td>\n",
       "      <td>80</td>\n",
       "      <td>3</td>\n",
       "      <td>4000</td>\n",
       "      <td>0.11</td>\n",
       "      <td>0.0</td>\n",
       "      <td>0.000</td>\n",
       "      <td>0.004900</td>\n",
       "      <td>118</td>\n",
       "      <td>1</td>\n",
       "      <td>QuickSort</td>\n",
       "      <td>4.0</td>\n",
       "      <td>Slowdown</td>\n",
       "    </tr>\n",
       "    <tr>\n",
       "      <th>3</th>\n",
       "      <td>64</td>\n",
       "      <td>80</td>\n",
       "      <td>3</td>\n",
       "      <td>4000</td>\n",
       "      <td>0.11</td>\n",
       "      <td>0.0</td>\n",
       "      <td>0.000</td>\n",
       "      <td>0.004900</td>\n",
       "      <td>118</td>\n",
       "      <td>1</td>\n",
       "      <td>QuickSort</td>\n",
       "      <td>4.0</td>\n",
       "      <td>Slowdown</td>\n",
       "    </tr>\n",
       "    <tr>\n",
       "      <th>4</th>\n",
       "      <td>64</td>\n",
       "      <td>80</td>\n",
       "      <td>3</td>\n",
       "      <td>100001</td>\n",
       "      <td>0.82</td>\n",
       "      <td>0.0</td>\n",
       "      <td>0.032</td>\n",
       "      <td>0.008255</td>\n",
       "      <td>1563</td>\n",
       "      <td>64</td>\n",
       "      <td>PrimeGen</td>\n",
       "      <td>4.0</td>\n",
       "      <td>Slowdown</td>\n",
       "    </tr>\n",
       "  </tbody>\n",
       "</table>\n",
       "</div>"
      ],
      "text/plain": [
       "   SP/SM  Num SM  Cluster ID  Data (Transfer) Size (in Bytes)  \\\n",
       "0     64      80           3                            40000   \n",
       "1     64      80           3                            40000   \n",
       "2     64      80           3                             4000   \n",
       "3     64      80           3                             4000   \n",
       "4     64      80           3                           100001   \n",
       "\n",
       "   Ratio of Global Access  Ratio of FP Instructions  Ratio of Branch Inst  \\\n",
       "0                    0.11                       0.0                 0.000   \n",
       "1                    0.11                       0.0                 0.000   \n",
       "2                    0.11                       0.0                 0.000   \n",
       "3                    0.11                       0.0                 0.000   \n",
       "4                    0.82                       0.0                 0.032   \n",
       "\n",
       "    Speedup  Num Blocks  Num Threads Application Name  PCIe Bandwidth  \\\n",
       "0  0.004842        1020            1        QuickSort             4.0   \n",
       "1  0.004842        1020            1        QuickSort             4.0   \n",
       "2  0.004900         118            1        QuickSort             4.0   \n",
       "3  0.004900         118            1        QuickSort             4.0   \n",
       "4  0.008255        1563           64         PrimeGen             4.0   \n",
       "\n",
       "      Class  \n",
       "0  Slowdown  \n",
       "1  Slowdown  \n",
       "2  Slowdown  \n",
       "3  Slowdown  \n",
       "4  Slowdown  "
      ]
     },
     "execution_count": 2,
     "metadata": {},
     "output_type": "execute_result"
    }
   ],
   "source": [
    "np.random.seed(42)\n",
    "df = pd.read_csv('./data/final_data_sort.csv')\n",
    "df.head()"
   ]
  },
  {
   "cell_type": "code",
   "execution_count": 3,
   "metadata": {},
   "outputs": [
    {
     "data": {
      "text/plain": [
       "SP/SM                                int64\n",
       "Num SM                               int64\n",
       "Cluster ID                           int64\n",
       "Data (Transfer) Size (in Bytes)      int64\n",
       "Ratio of Global Access             float64\n",
       "Ratio of FP Instructions           float64\n",
       "Ratio of Branch Inst               float64\n",
       "Speedup                            float64\n",
       "Num Blocks                           int64\n",
       "Num Threads                          int64\n",
       "Application Name                    object\n",
       "PCIe Bandwidth                     float64\n",
       "Class                               object\n",
       "dtype: object"
      ]
     },
     "execution_count": 3,
     "metadata": {},
     "output_type": "execute_result"
    }
   ],
   "source": [
    "df.dtypes"
   ]
  },
  {
   "cell_type": "markdown",
   "metadata": {},
   "source": [
    "Drop columns that do not add to analysis"
   ]
  },
  {
   "cell_type": "code",
   "execution_count": 4,
   "metadata": {},
   "outputs": [],
   "source": [
    "#drop columns irrelevant columns\n",
    "df = df.drop(['Cluster ID'], axis=1)\n",
    "df = df.drop(['Application Name'], axis=1)\n",
    "df = df.drop(['Ratio of FP Instructions'], axis=1)\n",
    "df = df.drop(['Speedup'], axis=1)"
   ]
  },
  {
   "cell_type": "markdown",
   "metadata": {},
   "source": [
    "Train-test split after feature-test split and standardizing training data"
   ]
  },
  {
   "cell_type": "code",
   "execution_count": 5,
   "metadata": {},
   "outputs": [],
   "source": [
    "#features-target split\n",
    "y = df['Class'].values\n",
    "df = df.drop(['Class'], axis=1)\n",
    "X = df.values\n",
    "\n",
    "#standardize\n",
    "scaler = StandardScaler()\n",
    "X=scaler.fit_transform(X)\n",
    "\n",
    "#train-test split\n",
    "X_train, X_test, y_train, y_test = train_test_split(X, y, test_size=0.15, random_state=0)"
   ]
  },
  {
   "cell_type": "markdown",
   "metadata": {},
   "source": [
    "### Baseline for Classification"
   ]
  },
  {
   "cell_type": "code",
   "execution_count": 6,
   "metadata": {},
   "outputs": [
    {
     "name": "stdout",
     "output_type": "stream",
     "text": [
      "Accuracy: 0.25\n",
      "F1 score: 0.29166666666666663\n",
      "Precision: 0.4166666666666667\n",
      "Recall: 0.25\n",
      "F1 score: 0.15277777777777776\n",
      "Precision: 0.19444444444444442\n",
      "Recall: 0.16666666666666666\n",
      "F1 score: 0.25\n",
      "Precision: 0.25\n",
      "Recall: 0.25\n"
     ]
    },
    {
     "name": "stderr",
     "output_type": "stream",
     "text": [
      "C:\\Users\\poorn\\Anaconda3\\lib\\site-packages\\sklearn\\dummy.py:132: FutureWarning: The default value of strategy will change from stratified to prior in 0.24.\n",
      "  \"stratified to prior in 0.24.\", FutureWarning)\n"
     ]
    }
   ],
   "source": [
    "#Random Forest Classifier\n",
    "classifier = DummyClassifier(random_state=0)\n",
    "classifier.fit(X_train, y_train)\n",
    "y_pred = classifier.predict(X_test)\n",
    "\n",
    "#evalaute\n",
    "print('Accuracy:', metrics.accuracy_score(y_test, y_pred))\n",
    "print('F1 score:', metrics.f1_score(y_test, y_pred,average='weighted'))\n",
    "print('Precision:', metrics.precision_score(y_test, y_pred,average='weighted'))\n",
    "print('Recall:', metrics.recall_score(y_test, y_pred,average='weighted'))\n",
    "\n",
    "print('F1 score:', metrics.f1_score(y_test, y_pred,average='macro'))\n",
    "print('Precision:', metrics.precision_score(y_test, y_pred,average='macro'))\n",
    "print('Recall:', metrics.recall_score(y_test, y_pred,average='macro'))\n",
    "\n",
    "print('F1 score:', metrics.f1_score(y_test, y_pred,average='micro'))\n",
    "print('Precision:', metrics.precision_score(y_test, y_pred,average='micro'))\n",
    "print('Recall:', metrics.recall_score(y_test, y_pred,average='micro'))"
   ]
  },
  {
   "cell_type": "markdown",
   "metadata": {},
   "source": [
    "### Random Forest"
   ]
  },
  {
   "cell_type": "code",
   "execution_count": 7,
   "metadata": {},
   "outputs": [
    {
     "name": "stdout",
     "output_type": "stream",
     "text": [
      "Accuracy: 0.95\n",
      "F1 score: 0.9460000000000001\n",
      "Precision: 0.9538461538461538\n",
      "Recall: 0.95\n",
      "F1 score: 0.94\n",
      "Precision: 0.9807692307692308\n",
      "Recall: 0.9166666666666666\n",
      "F1 score: 0.9500000000000001\n",
      "Precision: 0.95\n",
      "Recall: 0.95\n"
     ]
    }
   ],
   "source": [
    "#Random Forest Classifier\n",
    "classifier = RandomForestClassifier(n_estimators=20, random_state=0)\n",
    "classifier.fit(X_train, y_train)\n",
    "y_pred = classifier.predict(X_test)\n",
    "\n",
    "#evalaute\n",
    "print('Accuracy:', metrics.accuracy_score(y_test, y_pred))\n",
    "print('F1 score:', metrics.f1_score(y_test, y_pred,average='weighted'))\n",
    "print('Precision:', metrics.precision_score(y_test, y_pred,average='weighted'))\n",
    "print('Recall:', metrics.recall_score(y_test, y_pred,average='weighted'))\n",
    "\n",
    "print('F1 score:', metrics.f1_score(y_test, y_pred,average='macro'))\n",
    "print('Precision:', metrics.precision_score(y_test, y_pred,average='macro'))\n",
    "print('Recall:', metrics.recall_score(y_test, y_pred,average='macro'))\n",
    "\n",
    "print('F1 score:', metrics.f1_score(y_test, y_pred,average='micro'))\n",
    "print('Precision:', metrics.precision_score(y_test, y_pred,average='micro'))\n",
    "print('Recall:', metrics.recall_score(y_test, y_pred,average='micro'))"
   ]
  },
  {
   "cell_type": "markdown",
   "metadata": {},
   "source": [
    "Confusion Matrix -> We notice that 1 Minimal has been wrongly predicted as slow -> Acceptable"
   ]
  },
  {
   "cell_type": "code",
   "execution_count": 8,
   "metadata": {},
   "outputs": [
    {
     "data": {
      "text/plain": [
       "array([[12,  0,  0,  0],\n",
       "       [ 1,  2,  0,  0],\n",
       "       [ 0,  0,  2,  0],\n",
       "       [ 0,  0,  0,  3]], dtype=int64)"
      ]
     },
     "execution_count": 8,
     "metadata": {},
     "output_type": "execute_result"
    }
   ],
   "source": [
    "metrics.confusion_matrix(y_test, y_pred, labels=[\"Slowdown\", \"Minimal\", \"Moderate\",\"High\"])"
   ]
  },
  {
   "cell_type": "code",
   "execution_count": 9,
   "metadata": {},
   "outputs": [
    {
     "data": {
      "image/png": "[encoded data removed]",
      "text/plain": [
       "<Figure size 432x288 with 2 Axes>"
      ]
     },
     "metadata": {
      "needs_background": "light"
     },
     "output_type": "display_data"
    }
   ],
   "source": [
    "disp = metrics.plot_confusion_matrix(classifier, X_test, y_test, cmap=plt.cm.Blues)"
   ]
  },
  {
   "cell_type": "code",
   "execution_count": 10,
   "metadata": {},
   "outputs": [
    {
     "data": {
      "text/plain": [
       "1"
      ]
     },
     "execution_count": 10,
     "metadata": {},
     "output_type": "execute_result"
    }
   ],
   "source": [
    "# Export as dot file\n",
    "estimator = classifier.estimators_[5]\n",
    "export_graphviz(estimator, out_file='tree.dot', \n",
    "                feature_names = list(df.keys()),\n",
    "                class_names = [\"Slowdown\",\"Minimal\",\"Moderate\",\"High\"],\n",
    "                rounded = True, proportion = False, \n",
    "                precision = 2, filled = True)\n",
    "\n",
    "# Convert to png using system command (requires Graphviz)\n",
    "call(['dot', '-Tpng', 'tree.dot', '-o', 'tree.png', '-Gdpi=600'],shell=True)"
   ]
  },
  {
   "cell_type": "markdown",
   "metadata": {},
   "source": [
    "<img src=\"rf_tree.png\">"
   ]
  },
  {
   "cell_type": "code",
   "execution_count": 11,
   "metadata": {},
   "outputs": [
    {
     "data": {
      "image/png": "[encoded data removed]",
      "text/plain": [
       "<Figure size 432x288 with 1 Axes>"
      ]
     },
     "metadata": {
      "needs_background": "light"
     },
     "output_type": "display_data"
    }
   ],
   "source": [
    "#Important Features\n",
    "importances = pd.DataFrame({'feature':df.columns,'importance':np.round(classifier.feature_importances_,3)})\n",
    "importances = importances.sort_values('importance',ascending=False).set_index('feature')\n",
    "importances.plot.bar();"
   ]
  },
  {
   "cell_type": "markdown",
   "metadata": {},
   "source": [
    "### Gradient Boosted Trees"
   ]
  },
  {
   "cell_type": "code",
   "execution_count": 12,
   "metadata": {},
   "outputs": [
    {
     "name": "stdout",
     "output_type": "stream",
     "text": [
      "Accuracy: 0.95\n",
      "F1 score: 0.9460000000000001\n",
      "Precision: 0.9538461538461538\n",
      "Recall: 0.95\n",
      "F1 score: 0.94\n",
      "Precision: 0.9807692307692308\n",
      "Recall: 0.9166666666666666\n",
      "F1 score: 0.9500000000000001\n",
      "Precision: 0.95\n",
      "Recall: 0.95\n"
     ]
    }
   ],
   "source": [
    "#GBT\n",
    "classifier = GradientBoostingClassifier(n_estimators=20)\n",
    "classifier.fit(X_train, y_train)\n",
    "y_pred = classifier.predict(X_test)\n",
    "\n",
    "#evalaute\n",
    "print('Accuracy:', metrics.accuracy_score(y_test, y_pred))\n",
    "print('F1 score:', metrics.f1_score(y_test, y_pred,average='weighted'))\n",
    "print('Precision:', metrics.precision_score(y_test, y_pred,average='weighted'))\n",
    "print('Recall:', metrics.recall_score(y_test, y_pred,average='weighted'))\n",
    "\n",
    "print('F1 score:', metrics.f1_score(y_test, y_pred,average='macro'))\n",
    "print('Precision:', metrics.precision_score(y_test, y_pred,average='macro'))\n",
    "print('Recall:', metrics.recall_score(y_test, y_pred,average='macro'))\n",
    "\n",
    "print('F1 score:', metrics.f1_score(y_test, y_pred,average='micro'))\n",
    "print('Precision:', metrics.precision_score(y_test, y_pred,average='micro'))\n",
    "print('Recall:', metrics.recall_score(y_test, y_pred,average='micro'))"
   ]
  },
  {
   "cell_type": "markdown",
   "metadata": {},
   "source": [
    "Confusion Matrix -> Same error as Random Forest"
   ]
  },
  {
   "cell_type": "code",
   "execution_count": 13,
   "metadata": {},
   "outputs": [
    {
     "data": {
      "text/plain": [
       "array([[12,  0,  0,  0],\n",
       "       [ 1,  2,  0,  0],\n",
       "       [ 0,  0,  2,  0],\n",
       "       [ 0,  0,  0,  3]], dtype=int64)"
      ]
     },
     "execution_count": 13,
     "metadata": {},
     "output_type": "execute_result"
    }
   ],
   "source": [
    "metrics.confusion_matrix(y_test, y_pred, labels=[\"Slowdown\", \"Minimal\", \"Moderate\",\"High\"])"
   ]
  },
  {
   "cell_type": "code",
   "execution_count": 14,
   "metadata": {},
   "outputs": [
    {
     "data": {
      "image/png": "[encoded data removed]",
      "text/plain": [
       "<Figure size 432x288 with 2 Axes>"
      ]
     },
     "metadata": {
      "needs_background": "light"
     },
     "output_type": "display_data"
    }
   ],
   "source": [
    "disp = metrics.plot_confusion_matrix(classifier, X_test, y_test, cmap=plt.cm.Blues)"
   ]
  },
  {
   "cell_type": "markdown",
   "metadata": {},
   "source": [
    "### Multi-Layer Perceptron"
   ]
  },
  {
   "cell_type": "code",
   "execution_count": 15,
   "metadata": {},
   "outputs": [
    {
     "name": "stdout",
     "output_type": "stream",
     "text": [
      "Accuracy: 0.85\n",
      "F1 score: 0.8621212121212121\n",
      "Precision: 0.9\n",
      "Recall: 0.85\n",
      "F1 score: 0.8106060606060606\n",
      "Precision: 0.7916666666666666\n",
      "Recall: 0.875\n",
      "F1 score: 0.85\n",
      "Precision: 0.85\n",
      "Recall: 0.85\n"
     ]
    }
   ],
   "source": [
    "#Multi-Layer Perceptron\n",
    "classifier = MLPClassifier(hidden_layer_sizes=(8,8,8), activation='relu', solver='adam', max_iter=4500, random_state=10)\n",
    "classifier.fit(X_train,y_train)\n",
    "y_pred = classifier.predict(X_test)\n",
    "\n",
    "#evalaute\n",
    "print('Accuracy:', metrics.accuracy_score(y_test, y_pred))\n",
    "print('F1 score:', metrics.f1_score(y_test, y_pred,average='weighted'))\n",
    "print('Precision:', metrics.precision_score(y_test, y_pred,average='weighted'))\n",
    "print('Recall:', metrics.recall_score(y_test, y_pred,average='weighted'))\n",
    "\n",
    "print('F1 score:', metrics.f1_score(y_test, y_pred,average='macro'))\n",
    "print('Precision:', metrics.precision_score(y_test, y_pred,average='macro'))\n",
    "print('Recall:', metrics.recall_score(y_test, y_pred,average='macro'))\n",
    "\n",
    "print('F1 score:', metrics.f1_score(y_test, y_pred,average='micro'))\n",
    "print('Precision:', metrics.precision_score(y_test, y_pred,average='micro'))\n",
    "print('Recall:', metrics.recall_score(y_test, y_pred,average='micro'))"
   ]
  },
  {
   "cell_type": "markdown",
   "metadata": {},
   "source": [
    "Confusion Matrix -> 2 Slowdown have been missclassifed as Minimal and Moderate & 1 Minimal as Moderate -> Not preferrable"
   ]
  },
  {
   "cell_type": "code",
   "execution_count": 16,
   "metadata": {},
   "outputs": [
    {
     "data": {
      "text/plain": [
       "array([[10,  1,  1,  0],\n",
       "       [ 0,  2,  1,  0],\n",
       "       [ 0,  0,  2,  0],\n",
       "       [ 0,  0,  0,  3]], dtype=int64)"
      ]
     },
     "execution_count": 16,
     "metadata": {},
     "output_type": "execute_result"
    }
   ],
   "source": [
    "metrics.confusion_matrix(y_test, y_pred, labels=[\"Slowdown\", \"Minimal\", \"Moderate\",\"High\"])"
   ]
  },
  {
   "cell_type": "code",
   "execution_count": 17,
   "metadata": {},
   "outputs": [
    {
     "data": {
      "image/png": "[encoded data removed]",
      "text/plain": [
       "<Figure size 432x288 with 2 Axes>"
      ]
     },
     "metadata": {
      "needs_background": "light"
     },
     "output_type": "display_data"
    }
   ],
   "source": [
    "disp = metrics.plot_confusion_matrix(classifier, X_test, y_test, cmap=plt.cm.Blues)"
   ]
  },
  {
   "cell_type": "markdown",
   "metadata": {},
   "source": [
    "### Support Vector Machine"
   ]
  },
  {
   "cell_type": "code",
   "execution_count": 18,
   "metadata": {},
   "outputs": [
    {
     "name": "stdout",
     "output_type": "stream",
     "text": [
      "Accuracy: 0.65\n",
      "F1 score: 0.6417391304347826\n",
      "Precision: 0.6633116883116883\n",
      "Recall: 0.65\n",
      "F1 score: 0.4173913043478261\n",
      "Precision: 0.4237012987012987\n",
      "Recall: 0.45833333333333337\n",
      "F1 score: 0.65\n",
      "Precision: 0.65\n",
      "Recall: 0.65\n"
     ]
    },
    {
     "name": "stderr",
     "output_type": "stream",
     "text": [
      "C:\\Users\\poorn\\Anaconda3\\lib\\site-packages\\sklearn\\metrics\\_classification.py:1272: UndefinedMetricWarning: Precision is ill-defined and being set to 0.0 in labels with no predicted samples. Use `zero_division` parameter to control this behavior.\n",
      "  _warn_prf(average, modifier, msg_start, len(result))\n"
     ]
    }
   ],
   "source": [
    "#Support Vector Machine \n",
    "classifier = SVC(kernel='rbf') #try different kernels\n",
    "classifier.fit(X_train,y_train)\n",
    "y_pred = classifier.predict(X_test)\n",
    "\n",
    "#evalaute\n",
    "print('Accuracy:', metrics.accuracy_score(y_test, y_pred))\n",
    "print('F1 score:', metrics.f1_score(y_test, y_pred,average='weighted'))\n",
    "print('Precision:', metrics.precision_score(y_test, y_pred,average='weighted'))\n",
    "print('Recall:', metrics.recall_score(y_test, y_pred,average='weighted'))\n",
    "\n",
    "print('F1 score:', metrics.f1_score(y_test, y_pred,average='macro'))\n",
    "print('Precision:', metrics.precision_score(y_test, y_pred,average='macro'))\n",
    "print('Recall:', metrics.recall_score(y_test, y_pred,average='macro'))\n",
    "\n",
    "print('F1 score:', metrics.f1_score(y_test, y_pred,average='micro'))\n",
    "print('Precision:', metrics.precision_score(y_test, y_pred,average='micro'))\n",
    "print('Recall:', metrics.recall_score(y_test, y_pred,average='micro'))"
   ]
  },
  {
   "cell_type": "markdown",
   "metadata": {},
   "source": [
    "Confusion Matrix -> 2 Slowdowns as Minimal and 1 Minimal as High; 1 Moderate as Minimal and 1 as Slowdown -> (not preferrable); 2 High as Minimal (ok)"
   ]
  },
  {
   "cell_type": "code",
   "execution_count": 19,
   "metadata": {},
   "outputs": [
    {
     "data": {
      "text/plain": [
       "array([[10,  2,  0,  0],\n",
       "       [ 0,  2,  0,  1],\n",
       "       [ 1,  1,  0,  0],\n",
       "       [ 0,  2,  0,  1]], dtype=int64)"
      ]
     },
     "execution_count": 19,
     "metadata": {},
     "output_type": "execute_result"
    }
   ],
   "source": [
    "metrics.confusion_matrix(y_test, y_pred, labels=[\"Slowdown\", \"Minimal\", \"Moderate\",\"High\"])"
   ]
  },
  {
   "cell_type": "code",
   "execution_count": 20,
   "metadata": {},
   "outputs": [
    {
     "data": {
      "image/png": "[encoded data removed]",
      "text/plain": [
       "<Figure size 432x288 with 2 Axes>"
      ]
     },
     "metadata": {
      "needs_background": "light"
     },
     "output_type": "display_data"
    }
   ],
   "source": [
    "disp = metrics.plot_confusion_matrix(classifier, X_test, y_test, cmap=plt.cm.Blues)"
   ]
  },
  {
   "cell_type": "markdown",
   "metadata": {},
   "source": [
    "### Logistic Regression"
   ]
  },
  {
   "cell_type": "code",
   "execution_count": 21,
   "metadata": {},
   "outputs": [
    {
     "name": "stdout",
     "output_type": "stream",
     "text": [
      "Accuracy: 0.7\n",
      "F1 score: 0.6887142857142857\n",
      "Precision: 0.7326923076923076\n",
      "Recall: 0.7\n",
      "F1 score: 0.4878571428571429\n",
      "Precision: 0.5865384615384616\n",
      "Recall: 0.47916666666666663\n",
      "F1 score: 0.7\n",
      "Precision: 0.7\n",
      "Recall: 0.7\n"
     ]
    }
   ],
   "source": [
    "#Logistic Regression\n",
    "classifier = LogisticRegression(random_state=0)\n",
    "classifier.fit(X_train, y_train)\n",
    "y_pred = classifier.predict(X_test)\n",
    "\n",
    "#evalaute\n",
    "print('Accuracy:', metrics.accuracy_score(y_test, y_pred))\n",
    "print('F1 score:', metrics.f1_score(y_test, y_pred,average='weighted'))\n",
    "print('Precision:', metrics.precision_score(y_test, y_pred,average='weighted'))\n",
    "print('Recall:', metrics.recall_score(y_test, y_pred,average='weighted'))\n",
    "\n",
    "print('F1 score:', metrics.f1_score(y_test, y_pred,average='macro'))\n",
    "print('Precision:', metrics.precision_score(y_test, y_pred,average='macro'))\n",
    "print('Recall:', metrics.recall_score(y_test, y_pred,average='macro'))\n",
    "\n",
    "print('F1 score:', metrics.f1_score(y_test, y_pred,average='micro'))\n",
    "print('Precision:', metrics.precision_score(y_test, y_pred,average='micro'))\n",
    "print('Recall:', metrics.recall_score(y_test, y_pred,average='micro'))"
   ]
  },
  {
   "cell_type": "markdown",
   "metadata": {},
   "source": [
    "Confusion Matrix -> 1 Slowdown as High, 1 Minimal as Moderate and 2 Minimal as High; 1 High as Moderate -> Not at all Preferable -> Worst performance"
   ]
  },
  {
   "cell_type": "code",
   "execution_count": 22,
   "metadata": {},
   "outputs": [
    {
     "data": {
      "text/plain": [
       "array([[11,  0,  0,  1],\n",
       "       [ 0,  1,  1,  1],\n",
       "       [ 2,  0,  0,  0],\n",
       "       [ 0,  0,  1,  2]], dtype=int64)"
      ]
     },
     "execution_count": 22,
     "metadata": {},
     "output_type": "execute_result"
    }
   ],
   "source": [
    "metrics.confusion_matrix(y_test, y_pred, labels=[\"Slowdown\", \"Minimal\", \"Moderate\",\"High\"])"
   ]
  },
  {
   "cell_type": "code",
   "execution_count": 23,
   "metadata": {},
   "outputs": [
    {
     "data": {
      "image/png": "[encoded data removed]",
      "text/plain": [
       "<Figure size 432x288 with 2 Axes>"
      ]
     },
     "metadata": {
      "needs_background": "light"
     },
     "output_type": "display_data"
    }
   ],
   "source": [
    "disp = metrics.plot_confusion_matrix(classifier, X_test, y_test, cmap=plt.cm.Blues)"
   ]
  }
 ],
 "metadata": {
  "kernelspec": {
   "display_name": "Python 3",
   "language": "python",
   "name": "python3"
  },
  "language_info": {
   "codemirror_mode": {
    "name": "ipython",
    "version": 3
   },
   "file_extension": ".py",
   "mimetype": "text/x-python",
   "name": "python",
   "nbconvert_exporter": "python",
   "pygments_lexer": "ipython3",
   "version": "3.7.5"
  }
 },
 "nbformat": 4,
 "nbformat_minor": 2
}
