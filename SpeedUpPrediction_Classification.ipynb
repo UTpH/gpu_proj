{
 "cells": [
  {
   "cell_type": "markdown",
   "metadata": {},
   "source": [
    "## Predicting Speedup - Classification"
   ]
  },
  {
   "cell_type": "markdown",
   "metadata": {},
   "source": [
    "We label each data point collected as:-\n",
    "<ul>\n",
    "    <li>'Slowdown' (speedup<1)</li>\n",
    "    <li>'Minimal' (speedup<10)</li>\n",
    "    <li>'Moderate' (speedup<20)</li>\n",
    "    <li>'High' (speedup >= 20)</li>\n",
    "</ul>\n",
    "Then we train our classifier to predict wheather the application would get a preferable speed up range."
   ]
  },
  {
   "cell_type": "markdown",
   "metadata": {},
   "source": [
    "Importing required libraries"
   ]
  },
  {
   "cell_type": "code",
   "execution_count": 1,
   "metadata": {},
   "outputs": [],
   "source": [
    "from sklearn.ensemble import GradientBoostingClassifier\n",
    "from sklearn.model_selection import train_test_split\n",
    "from sklearn.linear_model import LogisticRegression\n",
    "from sklearn.ensemble import RandomForestClassifier\n",
    "from sklearn.preprocessing import StandardScaler\n",
    "from sklearn.neural_network import MLPClassifier\n",
    "from matplotlib import pyplot as plt\n",
    "from matplotlib import cm as cm\n",
    "from sklearn.svm import SVC\n",
    "from sklearn import metrics\n",
    "import seaborn as sns\n",
    "import pandas as pd \n",
    "import numpy as np"
   ]
  },
  {
   "cell_type": "markdown",
   "metadata": {},
   "source": [
    "### Data Pre-Processing"
   ]
  },
  {
   "cell_type": "markdown",
   "metadata": {},
   "source": [
    "Read CSV"
   ]
  },
  {
   "cell_type": "code",
   "execution_count": 2,
   "metadata": {},
   "outputs": [
    {
     "data": {
      "text/html": [
       "<div>\n",
       "<style scoped>\n",
       "    .dataframe tbody tr th:only-of-type {\n",
       "        vertical-align: middle;\n",
       "    }\n",
       "\n",
       "    .dataframe tbody tr th {\n",
       "        vertical-align: top;\n",
       "    }\n",
       "\n",
       "    .dataframe thead th {\n",
       "        text-align: right;\n",
       "    }\n",
       "</style>\n",
       "<table border=\"1\" class=\"dataframe\">\n",
       "  <thead>\n",
       "    <tr style=\"text-align: right;\">\n",
       "      <th></th>\n",
       "      <th>SP/SM</th>\n",
       "      <th>Num SM</th>\n",
       "      <th>Cluster ID</th>\n",
       "      <th>Data (Transfer) Size (in Bytes)</th>\n",
       "      <th>Ratio of Global Access</th>\n",
       "      <th>Ratio of FP Instructions</th>\n",
       "      <th>Ratio of Branch Inst</th>\n",
       "      <th>Speedup</th>\n",
       "      <th>Num Blocks</th>\n",
       "      <th>Num Threads</th>\n",
       "      <th>Application Name</th>\n",
       "      <th>PCIe Bandwidth</th>\n",
       "      <th>Class</th>\n",
       "    </tr>\n",
       "  </thead>\n",
       "  <tbody>\n",
       "    <tr>\n",
       "      <th>0</th>\n",
       "      <td>64</td>\n",
       "      <td>80</td>\n",
       "      <td>3</td>\n",
       "      <td>40000</td>\n",
       "      <td>0.11</td>\n",
       "      <td>0.0</td>\n",
       "      <td>0.000</td>\n",
       "      <td>0.004842</td>\n",
       "      <td>1020</td>\n",
       "      <td>1</td>\n",
       "      <td>QuickSort</td>\n",
       "      <td>4.0</td>\n",
       "      <td>Slowdown</td>\n",
       "    </tr>\n",
       "    <tr>\n",
       "      <th>1</th>\n",
       "      <td>64</td>\n",
       "      <td>80</td>\n",
       "      <td>3</td>\n",
       "      <td>40000</td>\n",
       "      <td>0.11</td>\n",
       "      <td>0.0</td>\n",
       "      <td>0.000</td>\n",
       "      <td>0.004842</td>\n",
       "      <td>1020</td>\n",
       "      <td>1</td>\n",
       "      <td>QuickSort</td>\n",
       "      <td>4.0</td>\n",
       "      <td>Slowdown</td>\n",
       "    </tr>\n",
       "    <tr>\n",
       "      <th>2</th>\n",
       "      <td>64</td>\n",
       "      <td>80</td>\n",
       "      <td>3</td>\n",
       "      <td>4000</td>\n",
       "      <td>0.11</td>\n",
       "      <td>0.0</td>\n",
       "      <td>0.000</td>\n",
       "      <td>0.004900</td>\n",
       "      <td>118</td>\n",
       "      <td>1</td>\n",
       "      <td>QuickSort</td>\n",
       "      <td>4.0</td>\n",
       "      <td>Slowdown</td>\n",
       "    </tr>\n",
       "    <tr>\n",
       "      <th>3</th>\n",
       "      <td>64</td>\n",
       "      <td>80</td>\n",
       "      <td>3</td>\n",
       "      <td>4000</td>\n",
       "      <td>0.11</td>\n",
       "      <td>0.0</td>\n",
       "      <td>0.000</td>\n",
       "      <td>0.004900</td>\n",
       "      <td>118</td>\n",
       "      <td>1</td>\n",
       "      <td>QuickSort</td>\n",
       "      <td>4.0</td>\n",
       "      <td>Slowdown</td>\n",
       "    </tr>\n",
       "    <tr>\n",
       "      <th>4</th>\n",
       "      <td>64</td>\n",
       "      <td>80</td>\n",
       "      <td>3</td>\n",
       "      <td>100001</td>\n",
       "      <td>0.82</td>\n",
       "      <td>0.0</td>\n",
       "      <td>0.032</td>\n",
       "      <td>0.008255</td>\n",
       "      <td>1563</td>\n",
       "      <td>64</td>\n",
       "      <td>PrimeGen</td>\n",
       "      <td>4.0</td>\n",
       "      <td>Slowdown</td>\n",
       "    </tr>\n",
       "  </tbody>\n",
       "</table>\n",
       "</div>"
      ],
      "text/plain": [
       "   SP/SM  Num SM  Cluster ID  Data (Transfer) Size (in Bytes)  \\\n",
       "0     64      80           3                            40000   \n",
       "1     64      80           3                            40000   \n",
       "2     64      80           3                             4000   \n",
       "3     64      80           3                             4000   \n",
       "4     64      80           3                           100001   \n",
       "\n",
       "   Ratio of Global Access  Ratio of FP Instructions  Ratio of Branch Inst  \\\n",
       "0                    0.11                       0.0                 0.000   \n",
       "1                    0.11                       0.0                 0.000   \n",
       "2                    0.11                       0.0                 0.000   \n",
       "3                    0.11                       0.0                 0.000   \n",
       "4                    0.82                       0.0                 0.032   \n",
       "\n",
       "    Speedup  Num Blocks  Num Threads Application Name  PCIe Bandwidth  \\\n",
       "0  0.004842        1020            1        QuickSort             4.0   \n",
       "1  0.004842        1020            1        QuickSort             4.0   \n",
       "2  0.004900         118            1        QuickSort             4.0   \n",
       "3  0.004900         118            1        QuickSort             4.0   \n",
       "4  0.008255        1563           64         PrimeGen             4.0   \n",
       "\n",
       "      Class  \n",
       "0  Slowdown  \n",
       "1  Slowdown  \n",
       "2  Slowdown  \n",
       "3  Slowdown  \n",
       "4  Slowdown  "
      ]
     },
     "execution_count": 2,
     "metadata": {},
     "output_type": "execute_result"
    }
   ],
   "source": [
    "np.random.seed(42)\n",
    "df = pd.read_csv('./data/final_data_sort.csv')\n",
    "df.head()"
   ]
  },
  {
   "cell_type": "code",
   "execution_count": 3,
   "metadata": {},
   "outputs": [
    {
     "data": {
      "text/plain": [
       "SP/SM                                int64\n",
       "Num SM                               int64\n",
       "Cluster ID                           int64\n",
       "Data (Transfer) Size (in Bytes)      int64\n",
       "Ratio of Global Access             float64\n",
       "Ratio of FP Instructions           float64\n",
       "Ratio of Branch Inst               float64\n",
       "Speedup                            float64\n",
       "Num Blocks                           int64\n",
       "Num Threads                          int64\n",
       "Application Name                    object\n",
       "PCIe Bandwidth                     float64\n",
       "Class                               object\n",
       "dtype: object"
      ]
     },
     "execution_count": 3,
     "metadata": {},
     "output_type": "execute_result"
    }
   ],
   "source": [
    "df.dtypes"
   ]
  },
  {
   "cell_type": "markdown",
   "metadata": {},
   "source": [
    "Drop columns that do not add to analysis"
   ]
  },
  {
   "cell_type": "code",
   "execution_count": 4,
   "metadata": {},
   "outputs": [],
   "source": [
    "#drop columns irrelevant columns\n",
    "df = df.drop(['Cluster ID'], axis=1)\n",
    "df = df.drop(['Application Name'], axis=1)\n",
    "df = df.drop(['Ratio of FP Instructions'], axis=1)\n",
    "df = df.drop(['Speedup'], axis=1)"
   ]
  },
  {
   "cell_type": "markdown",
   "metadata": {},
   "source": [
    "Train-test split after feature-test split and standardizing training data"
   ]
  },
  {
   "cell_type": "code",
   "execution_count": 5,
   "metadata": {},
   "outputs": [],
   "source": [
    "#features-target split\n",
    "y = df['Class'].values\n",
    "df = df.drop(['Class'], axis=1)\n",
    "X = df.values\n",
    "\n",
    "#standardize\n",
    "scaler = StandardScaler()\n",
    "X=scaler.fit_transform(X)\n",
    "\n",
    "#train-test split\n",
    "X_train, X_test, y_train, y_test = train_test_split(X, y, test_size=0.15, random_state=0)"
   ]
  },
  {
   "cell_type": "markdown",
   "metadata": {},
   "source": [
    "### Random Forest"
   ]
  },
  {
   "cell_type": "code",
   "execution_count": 6,
   "metadata": {},
   "outputs": [
    {
     "name": "stdout",
     "output_type": "stream",
     "text": [
      "Accuracy: 0.95\n",
      "F1 score: 0.9460000000000001\n",
      "Precision: 0.9538461538461538\n",
      "Recall: 0.95\n",
      "F1 score: 0.94\n",
      "Precision: 0.9807692307692308\n",
      "Recall: 0.9166666666666666\n",
      "F1 score: 0.9500000000000001\n",
      "Precision: 0.95\n",
      "Recall: 0.95\n"
     ]
    }
   ],
   "source": [
    "#Random Forest Classifier\n",
    "classifier = RandomForestClassifier(n_estimators=20, random_state=0)\n",
    "classifier.fit(X_train, y_train)\n",
    "y_pred = classifier.predict(X_test)\n",
    "\n",
    "#evalaute\n",
    "print('Accuracy:', metrics.accuracy_score(y_test, y_pred))\n",
    "print('F1 score:', metrics.f1_score(y_test, y_pred,average='weighted'))\n",
    "print('Precision:', metrics.precision_score(y_test, y_pred,average='weighted'))\n",
    "print('Recall:', metrics.recall_score(y_test, y_pred,average='weighted'))\n",
    "\n",
    "print('F1 score:', metrics.f1_score(y_test, y_pred,average='macro'))\n",
    "print('Precision:', metrics.precision_score(y_test, y_pred,average='macro'))\n",
    "print('Recall:', metrics.recall_score(y_test, y_pred,average='macro'))\n",
    "\n",
    "print('F1 score:', metrics.f1_score(y_test, y_pred,average='micro'))\n",
    "print('Precision:', metrics.precision_score(y_test, y_pred,average='micro'))\n",
    "print('Recall:', metrics.recall_score(y_test, y_pred,average='micro'))"
   ]
  },
  {
   "cell_type": "markdown",
   "metadata": {},
   "source": [
    "Confusion Matrix -> We notice that 1 Minimal has been wrongly predicted as slow -> Acceptable"
   ]
  },
  {
   "cell_type": "code",
   "execution_count": 7,
   "metadata": {},
   "outputs": [
    {
     "data": {
      "text/plain": [
       "array([[12,  0,  0,  0],\n",
       "       [ 1,  2,  0,  0],\n",
       "       [ 0,  0,  2,  0],\n",
       "       [ 0,  0,  0,  3]], dtype=int64)"
      ]
     },
     "execution_count": 7,
     "metadata": {},
     "output_type": "execute_result"
    }
   ],
   "source": [
    "metrics.confusion_matrix(y_test, y_pred, labels=[\"Slowdown\", \"Minimal\", \"Moderate\",\"High\"])"
   ]
  },
  {
   "cell_type": "markdown",
   "metadata": {},
   "source": [
    "### Gradient Boosted Trees"
   ]
  },
  {
   "cell_type": "code",
   "execution_count": 8,
   "metadata": {},
   "outputs": [
    {
     "name": "stdout",
     "output_type": "stream",
     "text": [
      "Accuracy: 0.95\n",
      "F1 score: 0.9460000000000001\n",
      "Precision: 0.9538461538461538\n",
      "Recall: 0.95\n",
      "F1 score: 0.94\n",
      "Precision: 0.9807692307692308\n",
      "Recall: 0.9166666666666666\n",
      "F1 score: 0.9500000000000001\n",
      "Precision: 0.95\n",
      "Recall: 0.95\n"
     ]
    }
   ],
   "source": [
    "#GBT\n",
    "classifier = GradientBoostingClassifier(n_estimators=20)\n",
    "classifier.fit(X_train, y_train)\n",
    "y_pred = classifier.predict(X_test)\n",
    "\n",
    "#evalaute\n",
    "print('Accuracy:', metrics.accuracy_score(y_test, y_pred))\n",
    "print('F1 score:', metrics.f1_score(y_test, y_pred,average='weighted'))\n",
    "print('Precision:', metrics.precision_score(y_test, y_pred,average='weighted'))\n",
    "print('Recall:', metrics.recall_score(y_test, y_pred,average='weighted'))\n",
    "\n",
    "print('F1 score:', metrics.f1_score(y_test, y_pred,average='macro'))\n",
    "print('Precision:', metrics.precision_score(y_test, y_pred,average='macro'))\n",
    "print('Recall:', metrics.recall_score(y_test, y_pred,average='macro'))\n",
    "\n",
    "print('F1 score:', metrics.f1_score(y_test, y_pred,average='micro'))\n",
    "print('Precision:', metrics.precision_score(y_test, y_pred,average='micro'))\n",
    "print('Recall:', metrics.recall_score(y_test, y_pred,average='micro'))"
   ]
  },
  {
   "cell_type": "markdown",
   "metadata": {},
   "source": [
    "Confusion Matrix -> Same error as Random Forest"
   ]
  },
  {
   "cell_type": "code",
   "execution_count": 9,
   "metadata": {},
   "outputs": [
    {
     "data": {
      "text/plain": [
       "array([[12,  0,  0,  0],\n",
       "       [ 1,  2,  0,  0],\n",
       "       [ 0,  0,  2,  0],\n",
       "       [ 0,  0,  0,  3]], dtype=int64)"
      ]
     },
     "execution_count": 9,
     "metadata": {},
     "output_type": "execute_result"
    }
   ],
   "source": [
    "metrics.confusion_matrix(y_test, y_pred, labels=[\"Slowdown\", \"Minimal\", \"Moderate\",\"High\"])"
   ]
  },
  {
   "cell_type": "markdown",
   "metadata": {},
   "source": [
    "### Multi-Layer Perceptron"
   ]
  },
  {
   "cell_type": "code",
   "execution_count": 10,
   "metadata": {},
   "outputs": [
    {
     "name": "stdout",
     "output_type": "stream",
     "text": [
      "Accuracy: 0.85\n",
      "F1 score: 0.8621212121212121\n",
      "Precision: 0.9\n",
      "Recall: 0.85\n",
      "F1 score: 0.8106060606060606\n",
      "Precision: 0.7916666666666666\n",
      "Recall: 0.875\n",
      "F1 score: 0.85\n",
      "Precision: 0.85\n",
      "Recall: 0.85\n"
     ]
    }
   ],
   "source": [
    "#Multi-Layer Perceptron\n",
    "classifier = MLPClassifier(hidden_layer_sizes=(8,8,8), activation='relu', solver='adam', max_iter=4500, random_state=10)\n",
    "classifier.fit(X_train,y_train)\n",
    "y_pred = classifier.predict(X_test)\n",
    "\n",
    "#evalaute\n",
    "print('Accuracy:', metrics.accuracy_score(y_test, y_pred))\n",
    "print('F1 score:', metrics.f1_score(y_test, y_pred,average='weighted'))\n",
    "print('Precision:', metrics.precision_score(y_test, y_pred,average='weighted'))\n",
    "print('Recall:', metrics.recall_score(y_test, y_pred,average='weighted'))\n",
    "\n",
    "print('F1 score:', metrics.f1_score(y_test, y_pred,average='macro'))\n",
    "print('Precision:', metrics.precision_score(y_test, y_pred,average='macro'))\n",
    "print('Recall:', metrics.recall_score(y_test, y_pred,average='macro'))\n",
    "\n",
    "print('F1 score:', metrics.f1_score(y_test, y_pred,average='micro'))\n",
    "print('Precision:', metrics.precision_score(y_test, y_pred,average='micro'))\n",
    "print('Recall:', metrics.recall_score(y_test, y_pred,average='micro'))"
   ]
  },
  {
   "cell_type": "markdown",
   "metadata": {},
   "source": [
    "Confusion Matrix -> 2 Slowdown have been missclassifed as Minimal and Moderate & 1 Minimal as Moderate -> Not preferrable"
   ]
  },
  {
   "cell_type": "code",
   "execution_count": 11,
   "metadata": {},
   "outputs": [
    {
     "data": {
      "text/plain": [
       "array([[10,  1,  1,  0],\n",
       "       [ 0,  2,  1,  0],\n",
       "       [ 0,  0,  2,  0],\n",
       "       [ 0,  0,  0,  3]], dtype=int64)"
      ]
     },
     "execution_count": 11,
     "metadata": {},
     "output_type": "execute_result"
    }
   ],
   "source": [
    "metrics.confusion_matrix(y_test, y_pred, labels=[\"Slowdown\", \"Minimal\", \"Moderate\",\"High\"])"
   ]
  },
  {
   "cell_type": "markdown",
   "metadata": {},
   "source": [
    "### Support Vector Machine"
   ]
  },
  {
   "cell_type": "code",
   "execution_count": 12,
   "metadata": {},
   "outputs": [
    {
     "name": "stdout",
     "output_type": "stream",
     "text": [
      "Accuracy: 0.65\n",
      "F1 score: 0.6417391304347826\n",
      "Precision: 0.6633116883116883\n",
      "Recall: 0.65\n",
      "F1 score: 0.4173913043478261\n",
      "Precision: 0.4237012987012987\n",
      "Recall: 0.45833333333333337\n",
      "F1 score: 0.65\n",
      "Precision: 0.65\n",
      "Recall: 0.65\n"
     ]
    },
    {
     "name": "stderr",
     "output_type": "stream",
     "text": [
      "C:\\Users\\poorn\\Anaconda3\\lib\\site-packages\\sklearn\\svm\\base.py:193: FutureWarning: The default value of gamma will change from 'auto' to 'scale' in version 0.22 to account better for unscaled features. Set gamma explicitly to 'auto' or 'scale' to avoid this warning.\n",
      "  \"avoid this warning.\", FutureWarning)\n",
      "C:\\Users\\poorn\\Anaconda3\\lib\\site-packages\\sklearn\\metrics\\classification.py:1437: UndefinedMetricWarning: F-score is ill-defined and being set to 0.0 in labels with no predicted samples.\n",
      "  'precision', 'predicted', average, warn_for)\n",
      "C:\\Users\\poorn\\Anaconda3\\lib\\site-packages\\sklearn\\metrics\\classification.py:1437: UndefinedMetricWarning: Precision is ill-defined and being set to 0.0 in labels with no predicted samples.\n",
      "  'precision', 'predicted', average, warn_for)\n"
     ]
    }
   ],
   "source": [
    "#Support Vector Machine \n",
    "classifier = SVC(kernel='rbf') #try different kernels\n",
    "classifier.fit(X_train,y_train)\n",
    "y_pred = classifier.predict(X_test)\n",
    "\n",
    "#evalaute\n",
    "print('Accuracy:', metrics.accuracy_score(y_test, y_pred))\n",
    "print('F1 score:', metrics.f1_score(y_test, y_pred,average='weighted'))\n",
    "print('Precision:', metrics.precision_score(y_test, y_pred,average='weighted'))\n",
    "print('Recall:', metrics.recall_score(y_test, y_pred,average='weighted'))\n",
    "\n",
    "print('F1 score:', metrics.f1_score(y_test, y_pred,average='macro'))\n",
    "print('Precision:', metrics.precision_score(y_test, y_pred,average='macro'))\n",
    "print('Recall:', metrics.recall_score(y_test, y_pred,average='macro'))\n",
    "\n",
    "print('F1 score:', metrics.f1_score(y_test, y_pred,average='micro'))\n",
    "print('Precision:', metrics.precision_score(y_test, y_pred,average='micro'))\n",
    "print('Recall:', metrics.recall_score(y_test, y_pred,average='micro'))"
   ]
  },
  {
   "cell_type": "markdown",
   "metadata": {},
   "source": [
    "Confusion Matrix -> 2 Slowdowns as Minimal and 1 Minimal as High; 1 Moderate as Minimal and 1 as Slowdown -> (not preferrable); 2 High as Minimal (ok)"
   ]
  },
  {
   "cell_type": "code",
   "execution_count": 13,
   "metadata": {},
   "outputs": [
    {
     "data": {
      "text/plain": [
       "array([[10,  2,  0,  0],\n",
       "       [ 0,  2,  0,  1],\n",
       "       [ 1,  1,  0,  0],\n",
       "       [ 0,  2,  0,  1]], dtype=int64)"
      ]
     },
     "execution_count": 13,
     "metadata": {},
     "output_type": "execute_result"
    }
   ],
   "source": [
    "metrics.confusion_matrix(y_test, y_pred, labels=[\"Slowdown\", \"Minimal\", \"Moderate\",\"High\"])"
   ]
  },
  {
   "cell_type": "markdown",
   "metadata": {},
   "source": [
    "### Logistic Regression"
   ]
  },
  {
   "cell_type": "code",
   "execution_count": 14,
   "metadata": {},
   "outputs": [
    {
     "name": "stdout",
     "output_type": "stream",
     "text": [
      "Accuracy: 0.65\n",
      "F1 score: 0.603\n",
      "Precision: 0.5676923076923076\n",
      "Recall: 0.65\n",
      "F1 score: 0.345\n",
      "Precision: 0.31153846153846154\n",
      "Recall: 0.3958333333333333\n",
      "F1 score: 0.65\n",
      "Precision: 0.65\n",
      "Recall: 0.65\n"
     ]
    },
    {
     "name": "stderr",
     "output_type": "stream",
     "text": [
      "C:\\Users\\poorn\\Anaconda3\\lib\\site-packages\\sklearn\\linear_model\\logistic.py:432: FutureWarning: Default solver will be changed to 'lbfgs' in 0.22. Specify a solver to silence this warning.\n",
      "  FutureWarning)\n",
      "C:\\Users\\poorn\\Anaconda3\\lib\\site-packages\\sklearn\\linear_model\\logistic.py:469: FutureWarning: Default multi_class will be changed to 'auto' in 0.22. Specify the multi_class option to silence this warning.\n",
      "  \"this warning.\", FutureWarning)\n",
      "C:\\Users\\poorn\\Anaconda3\\lib\\site-packages\\sklearn\\metrics\\classification.py:1437: UndefinedMetricWarning: F-score is ill-defined and being set to 0.0 in labels with no predicted samples.\n",
      "  'precision', 'predicted', average, warn_for)\n",
      "C:\\Users\\poorn\\Anaconda3\\lib\\site-packages\\sklearn\\metrics\\classification.py:1437: UndefinedMetricWarning: Precision is ill-defined and being set to 0.0 in labels with no predicted samples.\n",
      "  'precision', 'predicted', average, warn_for)\n"
     ]
    }
   ],
   "source": [
    "#Logistic Regression\n",
    "classifier = LogisticRegression(random_state=0)\n",
    "classifier.fit(X_train, y_train)\n",
    "y_pred = classifier.predict(X_test)\n",
    "\n",
    "#evalaute\n",
    "print('Accuracy:', metrics.accuracy_score(y_test, y_pred))\n",
    "print('F1 score:', metrics.f1_score(y_test, y_pred,average='weighted'))\n",
    "print('Precision:', metrics.precision_score(y_test, y_pred,average='weighted'))\n",
    "print('Recall:', metrics.recall_score(y_test, y_pred,average='weighted'))\n",
    "\n",
    "print('F1 score:', metrics.f1_score(y_test, y_pred,average='macro'))\n",
    "print('Precision:', metrics.precision_score(y_test, y_pred,average='macro'))\n",
    "print('Recall:', metrics.recall_score(y_test, y_pred,average='macro'))\n",
    "\n",
    "print('F1 score:', metrics.f1_score(y_test, y_pred,average='micro'))\n",
    "print('Precision:', metrics.precision_score(y_test, y_pred,average='micro'))\n",
    "print('Recall:', metrics.recall_score(y_test, y_pred,average='micro'))"
   ]
  },
  {
   "cell_type": "markdown",
   "metadata": {},
   "source": [
    "Confusion Matrix -> 1 Slowdown as High, 1 Minimal as Moderate and 2 Minimal as High; 1 High as Moderate -> Not at all Preferable -> Worst performance"
   ]
  },
  {
   "cell_type": "code",
   "execution_count": 15,
   "metadata": {},
   "outputs": [
    {
     "data": {
      "text/plain": [
       "array([[11,  0,  0,  1],\n",
       "       [ 0,  0,  1,  2],\n",
       "       [ 2,  0,  0,  0],\n",
       "       [ 0,  0,  1,  2]], dtype=int64)"
      ]
     },
     "execution_count": 15,
     "metadata": {},
     "output_type": "execute_result"
    }
   ],
   "source": [
    "metrics.confusion_matrix(y_test, y_pred, labels=[\"Slowdown\", \"Minimal\", \"Moderate\",\"High\"])"
   ]
  },
  {
   "cell_type": "code",
   "execution_count": null,
   "metadata": {},
   "outputs": [],
   "source": []
  }
 ],
 "metadata": {
  "kernelspec": {
   "display_name": "Python 3",
   "language": "python",
   "name": "python3"
  },
  "language_info": {
   "codemirror_mode": {
    "name": "ipython",
    "version": 3
   },
   "file_extension": ".py",
   "mimetype": "text/x-python",
   "name": "python",
   "nbconvert_exporter": "python",
   "pygments_lexer": "ipython3",
   "version": "3.7.5"
  }
 },
 "nbformat": 4,
 "nbformat_minor": 2
}
