{
 "cells": [
  {
   "cell_type": "code",
   "execution_count": 1,
   "metadata": {},
   "outputs": [],
   "source": [
    "from sklearn.model_selection import train_test_split\n",
    "from sklearn.ensemble import GradientBoostingRegressor\n",
    "from sklearn.ensemble import RandomForestRegressor\n",
    "from sklearn.linear_model import LinearRegression\n",
    "from sklearn.preprocessing import StandardScaler\n",
    "from sklearn.linear_model import ElasticNet\n",
    "from matplotlib import pyplot as plt\n",
    "from matplotlib import cm as cm\n",
    "from sklearn.svm import SVR\n",
    "from sklearn import metrics\n",
    "import seaborn as sns\n",
    "import pandas as pd \n",
    "import numpy as np"
   ]
  },
  {
   "cell_type": "code",
   "execution_count": 2,
   "metadata": {},
   "outputs": [
    {
     "data": {
      "text/html": [
       "<div>\n",
       "<style scoped>\n",
       "    .dataframe tbody tr th:only-of-type {\n",
       "        vertical-align: middle;\n",
       "    }\n",
       "\n",
       "    .dataframe tbody tr th {\n",
       "        vertical-align: top;\n",
       "    }\n",
       "\n",
       "    .dataframe thead th {\n",
       "        text-align: right;\n",
       "    }\n",
       "</style>\n",
       "<table border=\"1\" class=\"dataframe\">\n",
       "  <thead>\n",
       "    <tr style=\"text-align: right;\">\n",
       "      <th></th>\n",
       "      <th>SP/SM</th>\n",
       "      <th>Num SM</th>\n",
       "      <th>Connection BW</th>\n",
       "      <th>Data (Transfer) Size (in Bytes)</th>\n",
       "      <th>Ratio of Global Access</th>\n",
       "      <th>Ratio of FP Instructions</th>\n",
       "      <th>Ratio of Branch Inst</th>\n",
       "      <th>Num Blocks</th>\n",
       "      <th>Num Threads</th>\n",
       "      <th>Speedup</th>\n",
       "      <th>Application Name</th>\n",
       "    </tr>\n",
       "  </thead>\n",
       "  <tbody>\n",
       "    <tr>\n",
       "      <th>0</th>\n",
       "      <td>192</td>\n",
       "      <td>15</td>\n",
       "      <td>NaN</td>\n",
       "      <td>40960</td>\n",
       "      <td>0.086</td>\n",
       "      <td>0.0</td>\n",
       "      <td>0.036</td>\n",
       "      <td>1</td>\n",
       "      <td>256</td>\n",
       "      <td>0.00000</td>\n",
       "      <td>MergeSort</td>\n",
       "    </tr>\n",
       "    <tr>\n",
       "      <th>1</th>\n",
       "      <td>192</td>\n",
       "      <td>15</td>\n",
       "      <td>NaN</td>\n",
       "      <td>409600</td>\n",
       "      <td>0.086</td>\n",
       "      <td>0.0</td>\n",
       "      <td>0.036</td>\n",
       "      <td>2</td>\n",
       "      <td>256</td>\n",
       "      <td>43.02926</td>\n",
       "      <td>MergeSort</td>\n",
       "    </tr>\n",
       "    <tr>\n",
       "      <th>2</th>\n",
       "      <td>192</td>\n",
       "      <td>15</td>\n",
       "      <td>NaN</td>\n",
       "      <td>4096000</td>\n",
       "      <td>0.086</td>\n",
       "      <td>0.0</td>\n",
       "      <td>0.036</td>\n",
       "      <td>16</td>\n",
       "      <td>256</td>\n",
       "      <td>48.79433</td>\n",
       "      <td>MergeSort</td>\n",
       "    </tr>\n",
       "    <tr>\n",
       "      <th>3</th>\n",
       "      <td>128</td>\n",
       "      <td>24</td>\n",
       "      <td>NaN</td>\n",
       "      <td>40960</td>\n",
       "      <td>0.086</td>\n",
       "      <td>0.0</td>\n",
       "      <td>0.036</td>\n",
       "      <td>1</td>\n",
       "      <td>256</td>\n",
       "      <td>1093.75000</td>\n",
       "      <td>MergeSort</td>\n",
       "    </tr>\n",
       "    <tr>\n",
       "      <th>4</th>\n",
       "      <td>128</td>\n",
       "      <td>24</td>\n",
       "      <td>NaN</td>\n",
       "      <td>409600</td>\n",
       "      <td>0.086</td>\n",
       "      <td>0.0</td>\n",
       "      <td>0.036</td>\n",
       "      <td>2</td>\n",
       "      <td>256</td>\n",
       "      <td>59.66587</td>\n",
       "      <td>MergeSort</td>\n",
       "    </tr>\n",
       "  </tbody>\n",
       "</table>\n",
       "</div>"
      ],
      "text/plain": [
       "   SP/SM  Num SM  Connection BW  Data (Transfer) Size (in Bytes)  \\\n",
       "0    192      15            NaN                            40960   \n",
       "1    192      15            NaN                           409600   \n",
       "2    192      15            NaN                          4096000   \n",
       "3    128      24            NaN                            40960   \n",
       "4    128      24            NaN                           409600   \n",
       "\n",
       "   Ratio of Global Access  Ratio of FP Instructions  Ratio of Branch Inst  \\\n",
       "0                   0.086                       0.0                 0.036   \n",
       "1                   0.086                       0.0                 0.036   \n",
       "2                   0.086                       0.0                 0.036   \n",
       "3                   0.086                       0.0                 0.036   \n",
       "4                   0.086                       0.0                 0.036   \n",
       "\n",
       "   Num Blocks  Num Threads     Speedup Application Name  \n",
       "0           1          256     0.00000        MergeSort  \n",
       "1           2          256    43.02926        MergeSort  \n",
       "2          16          256    48.79433        MergeSort  \n",
       "3           1          256  1093.75000        MergeSort  \n",
       "4           2          256    59.66587        MergeSort  "
      ]
     },
     "execution_count": 2,
     "metadata": {},
     "output_type": "execute_result"
    }
   ],
   "source": [
    "np.random.seed(42)\n",
    "df = pd.read_csv('final_data.csv')\n",
    "#df.astype({'Data (Transfer) Size (in Bytes)': 'int32'}).dtypes\n",
    "df.head()"
   ]
  },
  {
   "cell_type": "code",
   "execution_count": 3,
   "metadata": {},
   "outputs": [
    {
     "data": {
      "text/plain": [
       "SP/SM                                int64\n",
       "Num SM                               int64\n",
       "Connection BW                      float64\n",
       "Data (Transfer) Size (in Bytes)      int64\n",
       "Ratio of Global Access             float64\n",
       "Ratio of FP Instructions           float64\n",
       "Ratio of Branch Inst               float64\n",
       "Num Blocks                           int64\n",
       "Num Threads                          int64\n",
       "Speedup                            float64\n",
       "Application Name                    object\n",
       "dtype: object"
      ]
     },
     "execution_count": 3,
     "metadata": {},
     "output_type": "execute_result"
    }
   ],
   "source": [
    "df.dtypes"
   ]
  },
  {
   "cell_type": "markdown",
   "metadata": {},
   "source": [
    "### Correlation, Covariance"
   ]
  },
  {
   "cell_type": "code",
   "execution_count": 4,
   "metadata": {},
   "outputs": [
    {
     "data": {
      "image/png": "[encoded data removed]",
      "text/plain": [
       "<Figure size 432x288 with 2 Axes>"
      ]
     },
     "metadata": {
      "needs_background": "light"
     },
     "output_type": "display_data"
    }
   ],
   "source": [
    "corr = df.corr()\n",
    "ax = sns.heatmap(\n",
    "    corr, \n",
    "    vmin=-1, vmax=1, center=0,\n",
    "    cmap=sns.diverging_palette(20, 220, n=200),\n",
    "    square=True\n",
    ")\n",
    "ax.set_xticklabels(\n",
    "    ax.get_xticklabels(),\n",
    "    rotation=45,\n",
    "    horizontalalignment='right'\n",
    ");"
   ]
  },
  {
   "cell_type": "code",
   "execution_count": 5,
   "metadata": {},
   "outputs": [
    {
     "data": {
      "image/png": "[encoded data removed]",
      "text/plain": [
       "<Figure size 432x288 with 2 Axes>"
      ]
     },
     "metadata": {
      "needs_background": "light"
     },
     "output_type": "display_data"
    }
   ],
   "source": [
    "cov = df.cov()\n",
    "ax = sns.heatmap(\n",
    "    cov, \n",
    "    vmin=-1, vmax=1, center=0,\n",
    "    cmap=sns.diverging_palette(20, 220, n=200),\n",
    "    square=True\n",
    ")\n",
    "ax.set_xticklabels(\n",
    "    ax.get_xticklabels(),\n",
    "    rotation=45,\n",
    "    horizontalalignment='right'\n",
    ");"
   ]
  },
  {
   "cell_type": "markdown",
   "metadata": {},
   "source": [
    "Train Test Split"
   ]
  },
  {
   "cell_type": "code",
   "execution_count": 6,
   "metadata": {},
   "outputs": [],
   "source": [
    "#remove once you have badnwidth\n",
    "df = df.drop(['Connection BW'], axis=1)\n",
    "\n",
    "#features-target split\n",
    "X = df.iloc[:, 0:8].values\n",
    "y = df.iloc[:, 8].values\n",
    "\n",
    "#maybe try and standardize.. something on these lines SVM esp prefers standardized data\n",
    "'''scaler = StandardScaler()\n",
    "X=scaler.fit(X)\n",
    "y=df.scaler.fit(y)'''\n",
    "\n",
    "#train-test split\n",
    "X_train, X_test, y_train, y_test = train_test_split(X, y, test_size=0.2, random_state=0)"
   ]
  },
  {
   "cell_type": "markdown",
   "metadata": {},
   "source": [
    "### Naive Baseline (DO NOT RUN-> Not complete)\n",
    "\n",
    "Naive baseline is to guess the median value on the training set for all testing cases. If the model cannot better this basic baseline, then nope!"
   ]
  },
  {
   "cell_type": "code",
   "execution_count": null,
   "metadata": {},
   "outputs": [],
   "source": [
    "# Naive baseline is the median\n",
    "median_pred = X_train['Speedup'].median()\n",
    "median_preds = [median_pred for _ in range(len(X_test))]\n",
    "true = X_test['Speedup']"
   ]
  },
  {
   "cell_type": "markdown",
   "metadata": {},
   "source": [
    "### Random Forest"
   ]
  },
  {
   "cell_type": "code",
   "execution_count": 7,
   "metadata": {},
   "outputs": [
    {
     "name": "stdout",
     "output_type": "stream",
     "text": [
      "Mean Absolute Error: 19.50236985821634\n",
      "Mean Squared Error: 1187.8318233761058\n",
      "Root Mean Squared Error: 34.46493614350832\n"
     ]
    }
   ],
   "source": [
    "#Random Forest Regressor\n",
    "regressor = RandomForestRegressor(n_estimators=20, random_state=0)\n",
    "regressor.fit(X_train, y_train)\n",
    "y_pred = regressor.predict(X_test)\n",
    "\n",
    "#evalaute\n",
    "print('Mean Absolute Error:', metrics.mean_absolute_error(y_test, y_pred))\n",
    "print('Mean Squared Error:', metrics.mean_squared_error(y_test, y_pred))\n",
    "print('Root Mean Squared Error:', np.sqrt(metrics.mean_squared_error(y_test, y_pred)))"
   ]
  },
  {
   "cell_type": "markdown",
   "metadata": {},
   "source": [
    "### SVM"
   ]
  },
  {
   "cell_type": "code",
   "execution_count": 8,
   "metadata": {},
   "outputs": [
    {
     "name": "stdout",
     "output_type": "stream",
     "text": [
      "Mean Absolute Error: 125.00716101184236\n",
      "Mean Squared Error: 160424.2526231039\n",
      "Root Mean Squared Error: 400.52996470064994\n"
     ]
    },
    {
     "name": "stderr",
     "output_type": "stream",
     "text": [
      "C:\\Users\\poorn\\Anaconda3\\lib\\site-packages\\sklearn\\svm\\base.py:193: FutureWarning: The default value of gamma will change from 'auto' to 'scale' in version 0.22 to account better for unscaled features. Set gamma explicitly to 'auto' or 'scale' to avoid this warning.\n",
      "  \"avoid this warning.\", FutureWarning)\n"
     ]
    }
   ],
   "source": [
    "#Support Vector Machine Regressor\n",
    "regressor = SVR(kernel='rbf') #try different kernels\n",
    "regressor.fit(X_train,y_train)\n",
    "y_pred = regressor.predict(X_test)\n",
    "\n",
    "#evalaute\n",
    "print('Mean Absolute Error:', metrics.mean_absolute_error(y_test, y_pred))\n",
    "print('Mean Squared Error:', metrics.mean_squared_error(y_test, y_pred))\n",
    "print('Root Mean Squared Error:', np.sqrt(metrics.mean_squared_error(y_test, y_pred)))"
   ]
  },
  {
   "cell_type": "markdown",
   "metadata": {},
   "source": [
    "### ElasticNet Regression"
   ]
  },
  {
   "cell_type": "code",
   "execution_count": 9,
   "metadata": {},
   "outputs": [
    {
     "name": "stdout",
     "output_type": "stream",
     "text": [
      "Mean Absolute Error: 125.00716101184236\n",
      "Mean Squared Error: 160424.2526231039\n",
      "Root Mean Squared Error: 400.52996470064994\n"
     ]
    }
   ],
   "source": [
    "#ENet Regression\n",
    "regressor = ElasticNet(alpha=1.0, l1_ratio=0.5)\n",
    "regressor.fit(X_train, y_train)\n",
    "predictions = regressor.predict(X_test)\n",
    "\n",
    "#evalaute\n",
    "print('Mean Absolute Error:', metrics.mean_absolute_error(y_test, y_pred))\n",
    "print('Mean Squared Error:', metrics.mean_squared_error(y_test, y_pred))\n",
    "print('Root Mean Squared Error:', np.sqrt(metrics.mean_squared_error(y_test, y_pred)))"
   ]
  },
  {
   "cell_type": "markdown",
   "metadata": {},
   "source": [
    "### Linear Regression"
   ]
  },
  {
   "cell_type": "code",
   "execution_count": 10,
   "metadata": {},
   "outputs": [
    {
     "name": "stdout",
     "output_type": "stream",
     "text": [
      "Mean Absolute Error: 125.00716101184236\n",
      "Mean Squared Error: 160424.2526231039\n",
      "Root Mean Squared Error: 400.52996470064994\n"
     ]
    }
   ],
   "source": [
    "#Linear Regression\n",
    "regressor = LinearRegression()\n",
    "regressor.fit(X_train, y_train)\n",
    "predictions = regressor.predict(X_test)\n",
    "\n",
    "#evalaute\n",
    "print('Mean Absolute Error:', metrics.mean_absolute_error(y_test, y_pred))\n",
    "print('Mean Squared Error:', metrics.mean_squared_error(y_test, y_pred))\n",
    "print('Root Mean Squared Error:', np.sqrt(metrics.mean_squared_error(y_test, y_pred)))"
   ]
  },
  {
   "cell_type": "markdown",
   "metadata": {},
   "source": [
    "### Gradient Boosted Trees"
   ]
  },
  {
   "cell_type": "code",
   "execution_count": 11,
   "metadata": {},
   "outputs": [
    {
     "name": "stdout",
     "output_type": "stream",
     "text": [
      "Mean Absolute Error: 125.00716101184236\n",
      "Mean Squared Error: 160424.2526231039\n",
      "Root Mean Squared Error: 400.52996470064994\n"
     ]
    }
   ],
   "source": [
    "#GBT\n",
    "regressor = GradientBoostingRegressor(n_estimators=20)\n",
    "regressor.fit(X_train, y_train)\n",
    "predictions = regressor.predict(X_test)\n",
    "\n",
    "#evalaute\n",
    "print('Mean Absolute Error:', metrics.mean_absolute_error(y_test, y_pred))\n",
    "print('Mean Squared Error:', metrics.mean_squared_error(y_test, y_pred))\n",
    "print('Root Mean Squared Error:', np.sqrt(metrics.mean_squared_error(y_test, y_pred)))"
   ]
  },
  {
   "cell_type": "code",
   "execution_count": null,
   "metadata": {},
   "outputs": [],
   "source": []
  }
 ],
 "metadata": {
  "kernelspec": {
   "display_name": "Python 3",
   "language": "python",
   "name": "python3"
  },
  "language_info": {
   "codemirror_mode": {
    "name": "ipython",
    "version": 3
   },
   "file_extension": ".py",
   "mimetype": "text/x-python",
   "name": "python",
   "nbconvert_exporter": "python",
   "pygments_lexer": "ipython3",
   "version": "3.7.5"
  }
 },
 "nbformat": 4,
 "nbformat_minor": 2
}
